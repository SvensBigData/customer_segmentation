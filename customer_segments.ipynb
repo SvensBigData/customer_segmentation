{
 "cells": [
  {
   "cell_type": "markdown",
   "metadata": {},
   "source": [
    "# Creating Customer Segments"
   ]
  },
  {
   "cell_type": "markdown",
   "metadata": {},
   "source": [
    "In this project you, will analyze a dataset containing annual spending amounts for internal structure, to understand the variation in the different types of customers that a wholesale distributor interacts with.\n",
    "\n",
    "Instructions:\n",
    "\n",
    "- Run each code block below by pressing **Shift+Enter**, making sure to implement any steps marked with a TODO.\n",
    "- Answer each question in the space provided by editing the blocks labeled \"Answer:\".\n",
    "- When you are done, submit the completed notebook (.ipynb) with all code blocks executed, as well as a .pdf version (File > Download as)."
   ]
  },
  {
   "cell_type": "code",
   "execution_count": 1,
   "metadata": {
    "collapsed": false
   },
   "outputs": [
    {
     "name": "stdout",
     "output_type": "stream",
     "text": [
      "Dataset has 440 rows, 6 columns\n",
      "   Fresh  Milk  Grocery  Frozen  Detergents_Paper  Delicatessen\n",
      "0  12669  9656     7561     214              2674          1338\n",
      "1   7057  9810     9568    1762              3293          1776\n",
      "2   6353  8808     7684    2405              3516          7844\n",
      "3  13265  1196     4221    6404               507          1788\n",
      "4  22615  5410     7198    3915              1777          5185\n"
     ]
    }
   ],
   "source": [
    "# Import libraries: NumPy, pandas, matplotlib\n",
    "import numpy as np\n",
    "import pandas as pd\n",
    "import matplotlib.pyplot as plt\n",
    "\n",
    "# Tell iPython to include plots inline in the notebook\n",
    "%matplotlib inline\n",
    "\n",
    "# Read dataset\n",
    "data = pd.read_csv(\"wholesale-customers.csv\")\n",
    "print \"Dataset has {} rows, {} columns\".format(*data.shape)\n",
    "print data.head()  # print the first 5 rows"
   ]
  },
  {
   "cell_type": "markdown",
   "metadata": {},
   "source": [
    "##Feature Transformation"
   ]
  },
  {
   "cell_type": "markdown",
   "metadata": {},
   "source": [
    "**1)** In this section you will be using PCA and ICA to start to understand the structure of the data. Before doing any computations, what do you think will show up in your computations? List one or two ideas for what might show up as the first PCA dimensions, or what type of vectors will show up as ICA dimensions."
   ]
  },
  {
   "cell_type": "markdown",
   "metadata": {},
   "source": [
    "Answer:\n",
    "\n",
    "PCA will find the principal components, it is defined in such a way that the first principal component has the largest possible variance. With the help of PCA we can reduce the dimensions to better visually seperate oure customer. With PCA I hope to find some semgention of oure customers which we can seperate by the kind of products the are buying. And based on this products we can find out why some customers need morning deliverys and some not. For the first PCA dimension I would expect to find products that needs to require moring delivery, so I would expect to find Fresh products to be one of the main explanation for the first principal component.\n",
    "\n",
    "For ICA I expect to receive a matrix contaning all six dimensions. With ICA I hope to find some vectore that are independent of the projected data. So that I can use this vectore to finde clear seperations between oure customers. With the help of ICA we can maybe find raw materials wich will help to identify oure customers. \n",
    "Thus, for ICA I would expect to find driving sources with which I can identify the customers. For examply I could find a buyer typ that most buys frozen Products, because the are ice-cream vendor."
   ]
  },
  {
   "cell_type": "markdown",
   "metadata": {},
   "source": [
    "###PCA"
   ]
  },
  {
   "cell_type": "code",
   "execution_count": 2,
   "metadata": {
    "collapsed": false
   },
   "outputs": [
    {
     "name": "stdout",
     "output_type": "stream",
     "text": [
      "      Fresh      Milk   Grocery    Frozen  Detergents_Paper  Delicatessen\n",
      "0 -0.976537 -0.121184 -0.061540 -0.152365          0.007054     -0.068105\n",
      "1 -0.110614  0.515802  0.764606 -0.018723          0.365351      0.057079\n",
      "2 -0.178557  0.509887 -0.275781  0.714200         -0.204410      0.283217\n",
      "3 -0.041876 -0.645640  0.375460  0.646292          0.149380     -0.020396\n",
      "4  0.015986  0.203236 -0.160292  0.220186          0.207930     -0.917077\n",
      "5 -0.015763  0.033492  0.410939 -0.013289         -0.871284     -0.265417\n",
      "[ 0.45961362  0.40517227  0.07003008  0.04402344  0.01502212  0.00613848]\n"
     ]
    }
   ],
   "source": [
    "# TODO: Apply PCA with the same number of dimensions as variables in the dataset\n",
    "from sklearn.decomposition import PCA\n",
    "pca = PCA(n_components=6).fit(data)\n",
    "\n",
    "# Print the components and the amount of variance in the data contained in each dimension\n",
    "print pd.DataFrame(pca.components_,columns=list(data.columns))\n",
    "print pca.explained_variance_ratio_"
   ]
  },
  {
   "cell_type": "markdown",
   "metadata": {},
   "source": [
    "**2)** How quickly does the variance drop off by dimension? If you were to use PCA on this dataset, how many dimensions would you choose for your analysis? Why?"
   ]
  },
  {
   "cell_type": "markdown",
   "metadata": {
    "collapsed": true
   },
   "source": [
    "Answer:\n",
    "\n",
    "The first two dimensions account for over 85 procent of variance from the Date, the thrid dimension then only adds another 7 procent. So there is a step drop off after 2 dimension and I would therefore choose 2 dimension for my analysis."
   ]
  },
  {
   "cell_type": "markdown",
   "metadata": {},
   "source": [
    "**3)** What do the dimensions seem to represent? How can you use this information?"
   ]
  },
  {
   "cell_type": "markdown",
   "metadata": {
    "collapsed": true
   },
   "source": [
    "Answer:  \n",
    "\n",
    "The first dimension seems to represent perishable products, like fresh and milk products and also frozen products.\n",
    "The secoung dimension seems to be represented by milk, grocery, detergents_papers and delicatessen\n",
    "\n",
    "We can use the reduction of dimension form 6 to 2 provided by PCA. We would  then only lost about 15 percent of the variablitiy of the dataset. In using only 2 Dimension we can save alot of computing power and it helps in visualisation of the data.\n"
   ]
  },
  {
   "cell_type": "markdown",
   "metadata": {},
   "source": [
    "###ICA"
   ]
  },
  {
   "cell_type": "code",
   "execution_count": 91,
   "metadata": {
    "collapsed": false
   },
   "outputs": [
    {
     "name": "stdout",
     "output_type": "stream",
     "text": [
      "      Fresh      Milk   Grocery    Frozen  Detergents_Paper  Delicatessen\n",
      "0  0.004855  0.002187  0.005914  0.002777         -0.002187     -0.051307\n",
      "1 -0.010935 -0.001428  0.008274  0.054115         -0.002880     -0.016569\n",
      "2  0.003885 -0.011636 -0.126097  0.006648          0.133231      0.015905\n",
      "3  0.002691 -0.049340  0.057013  0.003271          0.014535      0.008029\n",
      "4  0.004267  0.056411 -0.027587 -0.000390          0.020721     -0.015186\n",
      "5 -0.050137  0.006961  0.004277  0.003410         -0.007496      0.002935\n"
     ]
    }
   ],
   "source": [
    "# TODO: Fit an ICA model to the data\n",
    "# Note: Adjust the data to have center at the origin first!\n",
    "from sklearn.decomposition import FastICA\n",
    "centered_data = data.copy()\n",
    "centered_data -= centered_data.mean(axis=0)\n",
    "centered_data /= centered_data.std(axis=0)\n",
    "ica = FastICA(n_components = 6).fit(centered_data)\n",
    "\n",
    "# Print the independent components\n",
    "#print ica.components_\n",
    "print pd.DataFrame(ica.components_,columns=list(data.columns))"
   ]
  },
  {
   "cell_type": "markdown",
   "metadata": {},
   "source": [
    "**4)** For each vector in the ICA decomposition, write a sentence or two explaining what sort of object or property it corresponds to. What could these components be used for?"
   ]
  },
  {
   "cell_type": "markdown",
   "metadata": {
    "collapsed": true
   },
   "source": [
    "Answer: \n",
    "\n",
    "If we analyse the 6 different ICA component to buyer types, we could argue:\n",
    "\n",
    "That first component of ICA manly corresponds to a positiv magnitude torwards Fresh, Milk, Grocery and Frozen and a negativ value for Detergents_Paper and Delicatessen in terms of customer we could think this could relate to a discount store,\n",
    "\n",
    "The secound ICA component corresponds positiv to Grocery and Frozen in terms of customers that could be the realy small stores.\n",
    "\n",
    "The third ICA component has a positiv magnitude torwards Detergents_Paper and negativ one for Grocery, that could represent Drugstores\n",
    "\n",
    "The 4te one has a positiv magnitude torwards Grocery and negativ one for Milk, that could represent Kiosks\n",
    "\n",
    "The 5te one has a positiv magnitude torwards Milk and negativ one for Grocery and Delicatessen.\n",
    "\n",
    "The 6te one has a posiv magnitude torwars Milk, Grocery, Frozen and Delicatessen that would be the normal food store\n",
    "\n",
    "ICA tries to find the best statistically independent features. These components can be used to desribe boundarys between the different types of customers."
   ]
  },
  {
   "cell_type": "markdown",
   "metadata": {},
   "source": [
    "##Clustering\n",
    "\n",
    "In this section you will choose either K Means clustering or Gaussian Mixed Models clustering, which implements expectation-maximization. Then you will sample elements from the clusters to understand their significance."
   ]
  },
  {
   "cell_type": "markdown",
   "metadata": {},
   "source": [
    "###Choose a Cluster Type\n",
    "\n",
    "**5)** What are the advantages of using K Means clustering or Gaussian Mixture Models?"
   ]
  },
  {
   "cell_type": "markdown",
   "metadata": {},
   "source": [
    "Answer: \n",
    "\n",
    "K Means clustering is fast and easy to understand algorithmen. K Means definies hard cluster, that means that we are certain that a point belong to a spezific cluster at each iteration. K Means gives the best result when we have well seperateded data.\n",
    "\n",
    "Gaussian Mixtrue Moedels uses a soft assignment. For each point we have diffeneren chances that it belongs to one or another cluster. For example: If we define two cluster one point can belonge to one cluster with a certrainty of 90% and with 10% to the other cluster. So GMM is a good algorithm to use for classification of static postures and non-temporal pattern recognition.\n",
    "\n",
    "For this projekt I will use GMM because oure differenty custoers seams to better represente with soft clustering."
   ]
  },
  {
   "cell_type": "markdown",
   "metadata": {},
   "source": [
    "**6)** Below is some starter code to help you visualize some cluster data. The visualization is based on [this demo](http://scikit-learn.org/stable/auto_examples/cluster/plot_kmeans_digits.html) from the sklearn documentation."
   ]
  },
  {
   "cell_type": "code",
   "execution_count": 58,
   "metadata": {
    "collapsed": true
   },
   "outputs": [],
   "source": [
    "# Import clustering modules\n",
    "from sklearn.cluster import KMeans\n",
    "from sklearn.mixture import GMM"
   ]
  },
  {
   "cell_type": "code",
   "execution_count": 80,
   "metadata": {
    "collapsed": false
   },
   "outputs": [
    {
     "name": "stdout",
     "output_type": "stream",
     "text": [
      "[[  -650.02212207   1585.51909007]\n",
      " [  4426.80497937   4042.45150884]\n",
      " [  4841.9987068    2578.762176  ]\n",
      " [  -990.34643689  -6279.80599663]\n",
      " [-10657.99873116  -2159.72581518]\n",
      " [  2765.96159271   -959.87072713]\n",
      " [   715.55089221  -2013.00226567]\n",
      " [  4474.58366697   1429.49697204]\n",
      " [  6712.09539718  -2205.90915598]\n",
      " [  4823.63435407  13480.55920489]]\n",
      "[[  -650.02212207  -1585.51909007]\n",
      " [  4426.80497937  -4042.45150884]\n",
      " [  4841.9987068   -2578.762176  ]\n",
      " [  -990.34643689   6279.80599663]\n",
      " [-10657.99873116   2159.72581518]\n",
      " [  2765.96159271    959.87072713]\n",
      " [   715.55089221   2013.00226567]\n",
      " [  4474.58366697  -1429.49697204]\n",
      " [  6712.09539718   2205.90915598]\n",
      " [  4823.63435407 -13480.55920489]]\n"
     ]
    }
   ],
   "source": [
    "# TODO: First we reduce the data to two dimensions using PCA to capture variation\n",
    "reduced_data = PCA(n_components=2).fit(data).transform(data)\n",
    "print reduced_data[:10]  # print upto 10 elements\n"
   ]
  },
  {
   "cell_type": "code",
   "execution_count": 60,
   "metadata": {
    "collapsed": false
   },
   "outputs": [
    {
     "name": "stdout",
     "output_type": "stream",
     "text": [
      "GMM(covariance_type='diag', init_params='wmc', min_covar=0.001,\n",
      "  n_components=2, n_init=1, n_iter=100, params='wmc', random_state=None,\n",
      "  thresh=None, tol=0.001, verbose=0)\n"
     ]
    }
   ],
   "source": [
    "# TODO: Implement your clustering algorithm here, and fit it to the reduced data for visualization\n",
    "# The visualizer below assumes your clustering object is named 'clusters'\n",
    "\n",
    "#clusters = KMeans(init='k-means++', n_clusters=2, n_init=10)\n",
    "clusters = GMM(n_components = 2)\n",
    "clusters.fit(reduced_data)\n",
    "print clusters"
   ]
  },
  {
   "cell_type": "code",
   "execution_count": 61,
   "metadata": {
    "collapsed": false
   },
   "outputs": [],
   "source": [
    "# Plot the decision boundary by building a mesh grid to populate a graph.\n",
    "x_min, x_max = reduced_data[:, 0].min() - 1, reduced_data[:, 0].max() + 1\n",
    "y_min, y_max = reduced_data[:, 1].min() - 1, reduced_data[:, 1].max() + 1\n",
    "hx = (x_max-x_min)/1000.\n",
    "hy = (y_max-y_min)/1000.\n",
    "xx, yy = np.meshgrid(np.arange(x_min, x_max, hx), np.arange(y_min, y_max, hy))\n",
    "\n",
    "# Obtain labels for each point in mesh. Use last trained model.\n",
    "Z = clusters.predict(np.c_[xx.ravel(), yy.ravel()])"
   ]
  },
  {
   "cell_type": "code",
   "execution_count": 62,
   "metadata": {
    "collapsed": false
   },
   "outputs": [
    {
     "name": "stdout",
     "output_type": "stream",
     "text": [
      "[[-10810.23008886   9858.15532401]\n",
      " [  3308.39301792  -3017.01739698]]\n"
     ]
    }
   ],
   "source": [
    "# TODO: Find the centroids for KMeans or the cluster means for GMM \n",
    "\n",
    "centroids = clusters.means_\n",
    "print centroids"
   ]
  },
  {
   "cell_type": "code",
   "execution_count": 63,
   "metadata": {
    "collapsed": false
   },
   "outputs": [
    {
     "data": {
      "image/png": "[encoded data removed]",
      "text/plain": [
       "<matplotlib.figure.Figure at 0x214f90f0>"
      ]
     },
     "metadata": {},
     "output_type": "display_data"
    }
   ],
   "source": [
    "# Put the result into a color plot\n",
    "Z = Z.reshape(xx.shape)\n",
    "plt.figure(1)\n",
    "plt.clf()\n",
    "plt.imshow(Z, interpolation='nearest',\n",
    "           extent=(xx.min(), xx.max(), yy.min(), yy.max()),\n",
    "           cmap=plt.cm.Paired,\n",
    "           aspect='auto', origin='lower')\n",
    "\n",
    "plt.plot(reduced_data[:, 0], reduced_data[:, 1], 'k.', markersize=2)\n",
    "plt.scatter(centroids[:, 0], centroids[:, 1],\n",
    "            marker='x', s=169, linewidths=3,\n",
    "            color='w', zorder=10)\n",
    "plt.title('Clustering on the wholesale grocery dataset (PCA-reduced data)\\n'\n",
    "          'Centroids are marked with white cross')\n",
    "plt.xlim(x_min, x_max)\n",
    "plt.ylim(y_min, y_max)\n",
    "plt.xticks(())\n",
    "plt.yticks(())\n",
    "plt.show()"
   ]
  },
  {
   "cell_type": "code",
   "execution_count": 89,
   "metadata": {
    "collapsed": false,
    "scrolled": true
   },
   "outputs": [
    {
     "name": "stdout",
     "output_type": "stream",
     "text": [
      "   Fresh   Milk  Grocery  Frozen  Detergents_Paper  Delicatessen\n",
      "0  21466  12191    16154    4534              6407          2824\n",
      "1   9103   3839     5441    2624              1803          1127\n"
     ]
    }
   ],
   "source": [
    "#Bring the centroids into the original dimensions\n",
    "centroids2 = PCA(n_components = 2).fit(data).inverse_transform(centroids)\n",
    "print pd.DataFrame(centroids2.round(),columns=list(data.columns))"
   ]
  },
  {
   "cell_type": "markdown",
   "metadata": {},
   "source": [
    "After bring back the centroids in the original Dimensions we can cleary see, we have one centroid for the large volume customers and one for the small or medium size businesses."
   ]
  },
  {
   "cell_type": "code",
   "execution_count": 39,
   "metadata": {
    "collapsed": false
   },
   "outputs": [
    {
     "data": {
      "image/png": "[encoded data removed]",
      "text/plain": [
       "<matplotlib.figure.Figure at 0x19cdb2b0>"
      ]
     },
     "metadata": {},
     "output_type": "display_data"
    }
   ],
   "source": [
    "#try  clustering with 4 components\n",
    "reduced_data = PCA(n_components=2).fit(data).transform(data)\n",
    "#clusters = KMeans(init='k-means++', n_clusters=2, n_init=10)\n",
    "clusters = GMM(n_components = 3)\n",
    "clusters.fit(reduced_data)\n",
    "# Plot the decision boundary by building a mesh grid to populate a graph.\n",
    "x_min, x_max = reduced_data[:, 0].min() - 1, reduced_data[:, 0].max() + 1\n",
    "y_min, y_max = reduced_data[:, 1].min() - 1, reduced_data[:, 1].max() + 1\n",
    "hx = (x_max-x_min)/1000.\n",
    "hy = (y_max-y_min)/1000.\n",
    "xx, yy = np.meshgrid(np.arange(x_min, x_max, hx), np.arange(y_min, y_max, hy))\n",
    "\n",
    "# Obtain labels for each point in mesh. Use last trained model.\n",
    "Z = clusters.predict(np.c_[xx.ravel(), yy.ravel()])\n",
    "centroids = clusters.means_\n",
    "# Put the result into a color plot\n",
    "Z = Z.reshape(xx.shape)\n",
    "plt.figure(1)\n",
    "plt.clf()\n",
    "plt.imshow(Z, interpolation='nearest',\n",
    "           extent=(xx.min(), xx.max(), yy.min(), yy.max()),\n",
    "           cmap=plt.cm.Paired,\n",
    "           aspect='auto', origin='lower')\n",
    "\n",
    "plt.plot(reduced_data[:, 0], reduced_data[:, 1], 'k.', markersize=2)\n",
    "plt.scatter(centroids[:, 0], centroids[:, 1],\n",
    "            marker='x', s=169, linewidths=3,\n",
    "            color='w', zorder=10)\n",
    "plt.title('Clustering on the wholesale grocery dataset (PCA-reduced data)\\n'\n",
    "          'Centroids are marked with white cross')\n",
    "plt.xlim(x_min, x_max)\n",
    "plt.ylim(y_min, y_max)\n",
    "plt.xticks(())\n",
    "plt.yticks(())\n",
    "plt.show()"
   ]
  },
  {
   "cell_type": "markdown",
   "metadata": {},
   "source": [
    "**7)** What are the central objects in each cluster? Describe them as customers."
   ]
  },
  {
   "cell_type": "markdown",
   "metadata": {
    "collapsed": true
   },
   "source": [
    "Answer: "
   ]
  },
  {
   "cell_type": "markdown",
   "metadata": {},
   "source": [
    "I found 2 cluster to best seperated the custerm, with 3 clustern there seams to be no realboundry.\n",
    "\n",
    "So for the 2 clusters:\n",
    "We have one cluster in the buttom right which contans close group of customer, we can discribe them as small volume customers.\n",
    "The other bigger cluster with the higher variance, we can discribe as large volume customers."
   ]
  },
  {
   "cell_type": "markdown",
   "metadata": {},
   "source": [
    "**8)** Which of these techniques did you feel gave you the most insight into the data"
   ]
  },
  {
   "cell_type": "markdown",
   "metadata": {
    "collapsed": true
   },
   "source": [
    "Answer: \n",
    "\n",
    "I feel PCA give me a good insight into the data. With the help of PCA I could decrease the dimensions from 6 to 2. Which helps in visualisation and understanding the data. \n",
    "With the 2 features from PCA I could make good use of GMM to identifier 2 main groups of customer. With this crucial information the distributor can now better reorganize his business to fulfill the needs for this segments.\n",
    "The result from GMM exceeded the ones from K-means in terms of founding good boundarys for oure two types of customers. "
   ]
  },
  {
   "cell_type": "markdown",
   "metadata": {
    "collapsed": true
   },
   "source": [
    "**9)** How would you use that technique to help the company design new experiments?"
   ]
  },
  {
   "cell_type": "markdown",
   "metadata": {},
   "source": [
    "Answer: \n",
    "\n",
    "With that technique the company can now better analyse there type of customers. The can now define market segments for the customer. \n",
    "The can perform A/B for each segment indepently that will be importe because the different customer have different needs. For example the large volume customer might habe better cooling equiments for perishable products so one delivery in the evening might not be a problem for them. But the small customers might depend on fresh deliverys in the morning.\n",
    "So when the company uses A/B testing it can operse the impact for each segment independently."
   ]
  },
  {
   "cell_type": "markdown",
   "metadata": {},
   "source": [
    "**10)** How would you use that data to help you predict future customer needs?"
   ]
  },
  {
   "cell_type": "markdown",
   "metadata": {},
   "source": [
    "Answer:\n",
    "\n",
    "We could now based on oure customer segmentation build a supervised lerning model to predict if a new customer will be a big or small company. With this information we can right from the begining offer them the right mixture of goods. \n",
    "We could also learn about the special demand for oure segments to improve oure buisness model."
   ]
  }
 ],
 "metadata": {
  "kernelspec": {
   "display_name": "Python 2",
   "language": "python",
   "name": "python2"
  },
  "language_info": {
   "codemirror_mode": {
    "name": "ipython",
    "version": 2
   },
   "file_extension": ".py",
   "mimetype": "text/x-python",
   "name": "python",
   "nbconvert_exporter": "python",
   "pygments_lexer": "ipython2",
   "version": "2.7.11"
  }
 },
 "nbformat": 4,
 "nbformat_minor": 0
}
